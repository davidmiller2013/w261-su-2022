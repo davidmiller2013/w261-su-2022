{
 "cells": [
  {
   "cell_type": "markdown",
   "metadata": {},
   "source": [
    "# DFS vs BFS"
   ]
  },
  {
   "cell_type": "markdown",
   "metadata": {},
   "source": [
    "https://www.quora.com/What-are-the-advantages-of-using-BFS-over-DFS-or-using-DFS-over-BFS-What-are-the-applications-and-downsides-of-each"
   ]
  },
  {
   "cell_type": "markdown",
   "metadata": {},
   "source": [
    "For their most basic use (i.e., finding the connected components of an undirected graph), depth first search (DFS) and breadth-first search (BFS) are interchangeable.\n",
    "\n",
    "In some languages, a BFS is a slightly better choice because the most simple implementation of DFS is recursive, which introduces an overhead, and also might cause your code to hit the stack size limit for large graphs.\n",
    "\n",
    "The obvious advantage (and application) of BFS is that in unweighted graphs it can be used to construct a shortest path from u to v. This has numerous applications -- for example, you can compute the smallest number of moves needed to solve a given puzzle by running a BFS on its state space.\n",
    "\n",
    "BFS can even give you the shortest distances from one vertex u to all other vertices in the graph: for each vertex, just remember the edge that was used to discover it.\n",
    "\n",
    "DFS has many more applications. One natural application is topological sorting (i.e., resolving dependencies): the order in which a recursive DFS finishes processing the vertices of a (directed acyclic) graph of dependencies corresponds to a valid topological order. [The canonical application of __topological sorting__ is in scheduling a sequence of jobs or tasks based on their dependencies](https://en.wikipedia.org/wiki/Topological_sorting)\n",
    "\n",
    "The DFS spanning tree is special in that there are no cross edges. This makes it easy to modify DFS into finding cutvertices (a.k.a. articulation points), bridges, 2-connected components, and even strongly connected components in directed graphs.\n",
    "\n",
    "There is also a graph planarity test that is based on DFS.\n",
    "\n",
    "Preprocessing a tree using DFS allows us to answer least common ancestor queries efficiently.\n",
    "\n",
    "One of the most popular algorithms to generate random mazes is just a random DFS. (In each vertex, we randomize the order in which we process outgoing edges. By biasing this random choice we can tweak properties of the resulting maze.)"
   ]
  },
  {
   "cell_type": "code",
   "execution_count": null,
   "metadata": {},
   "outputs": [],
   "source": []
  },
  {
   "cell_type": "code",
   "execution_count": null,
   "metadata": {},
   "outputs": [],
   "source": []
  }
 ],
 "metadata": {
  "kernelspec": {
   "display_name": "Python 3",
   "language": "python",
   "name": "python3"
  },
  "language_info": {
   "codemirror_mode": {
    "name": "ipython",
    "version": 3
   },
   "file_extension": ".py",
   "mimetype": "text/x-python",
   "name": "python",
   "nbconvert_exporter": "python",
   "pygments_lexer": "ipython3",
   "version": "3.6.6"
  }
 },
 "nbformat": 4,
 "nbformat_minor": 2
}
