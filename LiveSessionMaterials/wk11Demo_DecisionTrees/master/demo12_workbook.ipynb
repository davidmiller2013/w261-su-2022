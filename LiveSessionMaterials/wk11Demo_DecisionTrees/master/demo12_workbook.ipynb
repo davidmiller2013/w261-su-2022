{
 "cells": [
  {
   "cell_type": "markdown",
   "metadata": {},
   "source": [
    "# wk12 Demo - Decision Trees\n",
    "__`MIDS w261: Machine Learning at Scale | UC Berkeley School of Information | Spring 2019`__\n",
    "\n",
    "This week we'll be looking at Decision Trees\n",
    "\n",
    "In class today we'll start out by reviewing the Decision Tree algorithm. We'll look at Regression and Classification trees, learning, pruning, and evluation. We'll extend our discussion to Ensemble methods, including Random Forests, Bagging, and Boosting.  \n",
    "\n",
    "By the end of today's demo you should be able to:  \n",
    "* ... __describe__ Decision Tree CART algorithm  \n",
    "* ... __identify__ Assumptions/constraints for learning DTs\n",
    "* ... __explain__ The difference between regression trees and classification trees\n",
    "* ... __explain__ The difference between bagging, RF, and boosting\n",
    "* ... __describe__ The PLANET method for distributing DT learning\n",
    "\n",
    "\n",
    "__`Additional Resources:`__    \n",
    "Chapter 9.2 ESL (or ISL Chapter 8) - Tree-Based Methods    \n",
    "https://explained.ai/decision-tree-viz/index.html - How to visualize decision trees      \n",
    "https://www.youtube.com/watch?v=iOucwX7Z1HU \"Wisdom of the crowd\" (jelly beans)      \n",
    "https://explained.ai/gradient-boosting/index.html - Gradient Booted Models (GBMs) explained   \n",
    "https://statweb.stanford.edu/~jhf/ftp/trebst.pdf - Greedy Function Approximation - a Gradient Boosting Machine  \n",
    "https://statweb.stanford.edu/~jhf/ftp/stobst.pdf - Stochastic Gradient Boosting   \n",
    "https://xgboost.readthedocs.io/en/latest/tutorials/model.html XGBoost Docs    \n",
    "\n"
   ]
  },
  {
   "cell_type": "markdown",
   "metadata": {},
   "source": [
    "# I. Decision Tree Review \n",
    "*Based on ESL Chapter 9.2 - Tree Based Methods*\n",
    "\n",
    "## Benefits\n",
    "* One of the most popular approaches to ML in  practice\n",
    "* Can handle numeric, categorical, and ordinal  features\n",
    "* No preprocessing required, no standardization/scaling\n",
    "* Handles Missing values naturally\n",
    "* NAs do not affect performance metrics\n",
    "* Interaction features\n",
    "* Highly Scalable\n",
    "* Variable selection\n",
    "* Excellent performance on a variety of problems\n",
    "* Off the shelf with very few hyperparameters\n",
    "\n",
    "\n",
    "## Approach\n",
    "* A decision tree represents a hierarchical  segmentation of the data\n",
    "* The original segment is called the root node and is the entire data set\n",
    "* The root node is partitioned into two or more segments by applying a series of simple rules  over input variables\n",
    "* For example, `risk == low`, vs `risk == not low`\n",
    "* Each rule assigns the observations to a segment based on its  input value\n",
    "* Each resulting segment can be further  partitioned into sub-segments, and so  on\n",
    "* For example `risk == low` can be partitioned into  `income == low` and `income == not low`\n",
    "* The segments are also called nodes,  and the final segments are called leaf  nodes or leaves"
   ]
  },
  {
   "cell_type": "markdown",
   "metadata": {},
   "source": [
    "<img src=\"fig9.2-ESL-tree-diagrams.png\">\n",
    "\n",
    "*Partitions and CART. Left panel shows a partition of a\n",
    "two-dimensional feature space by recursive binary splitting, as used in CART,\n",
    "applied to some fake data. Middle panel shows the tree corresponding\n",
    "to the partition in the left panel, and a perspective plot of the\n",
    "prediction surface appears in the right panel.* __Based on FIGURE 9.2 Elements of Statistical Learning.__"
   ]
  },
  {
   "cell_type": "markdown",
   "metadata": {},
   "source": [
    "## CART - Classification And Regression Trees \n"
   ]
  },
  {
   "cell_type": "markdown",
   "metadata": {},
   "source": [
    "## Regression Trees\n",
    "### How do we grow a regression tree?\n",
    "\n",
    "Our data consists of $N$ observations with $p$ features. Suppose we partition the data into $M$ regions $R_1, R_2,...,R_M$ , and model the response as a constant $c_m$ in each region.\n",
    "\n",
    "$$\n",
    "f(x) = \\sum_{m=1}^{M}c_mI(x \\in R_m) \\tag{9.10}\n",
    "$$"
   ]
  },
  {
   "cell_type": "markdown",
   "metadata": {},
   "source": [
    "Using the sum of squares criterion:"
   ]
  },
  {
   "cell_type": "markdown",
   "metadata": {},
   "source": [
    "$$\n",
    "\\sum(y_i - f(x_i))^2 \n",
    "$$"
   ]
  },
  {
   "cell_type": "markdown",
   "metadata": {},
   "source": [
    "The prediction $\\hat c_m$ is just the average of $y_i$ in region $R_m$"
   ]
  },
  {
   "cell_type": "markdown",
   "metadata": {},
   "source": [
    "$$\n",
    "\\hat c_m = avg(y_i|x_i \\in R_m) \\tag{9.11}\n",
    "$$"
   ]
  },
  {
   "cell_type": "markdown",
   "metadata": {},
   "source": [
    "__DISCUSSION__ \n",
    "\n",
    "* Can we find the best binary partition in terms of minimum sum of squares? \n",
    "* What is the big $O$ complexity of this problem?\n",
    "* What is another criterion often used for regression tree partitioining?"
   ]
  },
  {
   "cell_type": "markdown",
   "metadata": {},
   "source": [
    "### <--- SOLUTION --->\n",
    "__INSTRUCTOR TALKING POINTS__    \n",
    "\n",
    "* Can we find the best binary partition in terms of minimum sum of squares?  \n",
    "> The joint optimization problem of finding the optimal tree is known to be $NP-complete$.    \n",
    "proof:http://people.csail.mit.edu/rivest/HyafilRivest-ConstructingOptimalBinaryDecisionTreesIsNPComplete.pdf\n",
    "* What is the big $O$ complexity of this problem?   \n",
    "> O((v*p)!) where v is the number of variables and p is the number of features in each variable\n",
    "<img src=\"joint-optimazation-complexity.png\" width=\"50%\"/>\n",
    "* What is another criterion often used for regression tree partitioining?   \n",
    "> Mean Absolute Error (MAE), which corresponds to the median of the target variable in each region (vs mean for MSE)."
   ]
  },
  {
   "cell_type": "markdown",
   "metadata": {},
   "source": [
    "### Since finding the best binary partition in terms of minimum sum of squares is computationaly infeasable, we proceed with a greedy algorithm\n",
    "Starting with all of the data, consider a splitting variable $j$ and a split point $s$, we define the pair of half planes:\n",
    "\n",
    "$$\n",
    "R_1(j,s) = \\{X|X_j \\leq s\\} \\text{ and } R_2(j,s) = \\{X|X_j \\gt s\\} \\tag{9.12}\n",
    "$$"
   ]
  },
  {
   "cell_type": "markdown",
   "metadata": {},
   "source": [
    "We seek the splitting variable $j$ and split point $s$ that solve\n",
    "\n",
    "$$\n",
    "\\min_{j,s}[\\min_{c_1} \\sum_{x_i \\in R_1(j,s)} (y_i - c_1)^2 + \\min_{c_2} \\sum_{x_i \\in R_2(j,s)} (y_i - c_2)^2] \\tag{9.13}\n",
    "$$"
   ]
  },
  {
   "cell_type": "markdown",
   "metadata": {},
   "source": [
    "For any choice $j$ and $s$, the inner minimization is solved by\n",
    "\n",
    "$$\n",
    "\\hat c_1 = avg(y_i|x_i \\in R_1(j,s)) \\text{ and } \\hat c_2 = avg(y_i|x_i \\in R_2(j,s)) \\tag{9.14}\n",
    "$$"
   ]
  },
  {
   "cell_type": "markdown",
   "metadata": {},
   "source": [
    "For each splitting variable, the determination of the split point $s$ can be done very quickly and hence by scanning through all of the inputs, determination of the best pair $(j, s)$ is feasible.\n",
    "\n",
    "Having found the best split, we partition the data into the two resulting regions and repeat the splitting process on each of the two regions. Then this process is repeated on all of the resulting regions."
   ]
  },
  {
   "cell_type": "markdown",
   "metadata": {},
   "source": [
    "__DISCUSSION__ \n",
    "\n",
    "Consider three types of variables: continuous, ordered (ex. ratings), and categorical\n",
    "* How many split points will we have? \n",
    "* Notice that in equation 9.12, we split our data based on whether it is smaller or larger than our split point $s$. How can we find split points for categorical variables (ie, variables which are not ordered)?"
   ]
  },
  {
   "cell_type": "markdown",
   "metadata": {},
   "source": [
    "### <--- SOLUTION --->\n",
    "__INSTRUCTOR TALKING POINTS__   \n",
    "\n",
    "* How many split points will we have? \n",
    "> __ordered__: p-1   \n",
    "> __continuous__: N-1, or more precicely, number of distinct y values minus 1. Typically we bin continuous variables to reduce the number of possible splits.   \n",
    "> __categorical__: we will have $p \\choose 2$ possible splits for a binary tree (can also be written as $2^{p-1}-1$).   \n",
    "* Notice that in equation 9.12, we split our data based on whether it is smaller or larger than our split point $s$. How can we find split points for categorical variables (ie, variables which are not ordered)?\n",
    "> Brieman. See below.\n",
    "\n",
    "<img src=\"types-of-variables.png\">"
   ]
  },
  {
   "cell_type": "markdown",
   "metadata": {},
   "source": [
    "### Brieman's theorem\n",
    "\n",
    "For unordered domains, there are ${p \\choose 2}$ possible splits, where $p$ is the number of categories.   \n",
    "\n",
    "Breiman presents an algorithm for finding the best split predicate for a categorical attribute without evaluating\n",
    "all possible subsets of $p$, based on the observation that the optimal split predicate is a subsequence in the list of values for $p_i$ sorted by the average $y$ value.\n",
    "\n",
    "<!-- <img src=\"brieman.png\"> -->"
   ]
  },
  {
   "cell_type": "markdown",
   "metadata": {},
   "source": [
    "## EXERCISE 1\n",
    "Run the code cells below, and answer the following questions."
   ]
  },
  {
   "cell_type": "code",
   "execution_count": 1,
   "metadata": {},
   "outputs": [
    {
     "data": {
      "text/html": [
       "<div>\n",
       "<style scoped>\n",
       "    .dataframe tbody tr th:only-of-type {\n",
       "        vertical-align: middle;\n",
       "    }\n",
       "\n",
       "    .dataframe tbody tr th {\n",
       "        vertical-align: top;\n",
       "    }\n",
       "\n",
       "    .dataframe thead th {\n",
       "        text-align: right;\n",
       "    }\n",
       "</style>\n",
       "<table border=\"1\" class=\"dataframe\">\n",
       "  <thead>\n",
       "    <tr style=\"text-align: right;\">\n",
       "      <th></th>\n",
       "      <th>x</th>\n",
       "      <th>y</th>\n",
       "    </tr>\n",
       "  </thead>\n",
       "  <tbody>\n",
       "    <tr>\n",
       "      <th>0</th>\n",
       "      <td>c</td>\n",
       "      <td>0.8</td>\n",
       "    </tr>\n",
       "    <tr>\n",
       "      <th>1</th>\n",
       "      <td>b</td>\n",
       "      <td>0.9</td>\n",
       "    </tr>\n",
       "    <tr>\n",
       "      <th>2</th>\n",
       "      <td>b</td>\n",
       "      <td>1.4</td>\n",
       "    </tr>\n",
       "    <tr>\n",
       "      <th>3</th>\n",
       "      <td>c</td>\n",
       "      <td>0.6</td>\n",
       "    </tr>\n",
       "    <tr>\n",
       "      <th>4</th>\n",
       "      <td>a</td>\n",
       "      <td>3.2</td>\n",
       "    </tr>\n",
       "    <tr>\n",
       "      <th>5</th>\n",
       "      <td>b</td>\n",
       "      <td>2.5</td>\n",
       "    </tr>\n",
       "    <tr>\n",
       "      <th>6</th>\n",
       "      <td>a</td>\n",
       "      <td>3</td>\n",
       "    </tr>\n",
       "  </tbody>\n",
       "</table>\n",
       "</div>"
      ],
      "text/plain": [
       "   x    y\n",
       "0  c  0.8\n",
       "1  b  0.9\n",
       "2  b  1.4\n",
       "3  c  0.6\n",
       "4  a  3.2\n",
       "5  b  2.5\n",
       "6  a    3"
      ]
     },
     "execution_count": 1,
     "metadata": {},
     "output_type": "execute_result"
    }
   ],
   "source": [
    "# GENERATE DATASET: Run this cell as is\n",
    "import pandas as pd\n",
    "\n",
    "x = [\"c\",\"b\",\"b\",\"c\",\"a\",\"b\",\"a\"]\n",
    "y = [0.8,0.9,1.4,0.6,3.2,2.5,3.0]\n",
    "    \n",
    "\n",
    "df = pd.DataFrame([x,y]).transpose()\n",
    "df.columns = ['x', 'y']\n",
    "df"
   ]
  },
  {
   "cell_type": "code",
   "execution_count": 2,
   "metadata": {},
   "outputs": [
    {
     "data": {
      "text/html": [
       "<div>\n",
       "<style scoped>\n",
       "    .dataframe tbody tr th:only-of-type {\n",
       "        vertical-align: middle;\n",
       "    }\n",
       "\n",
       "    .dataframe tbody tr th {\n",
       "        vertical-align: top;\n",
       "    }\n",
       "\n",
       "    .dataframe thead th {\n",
       "        text-align: right;\n",
       "    }\n",
       "</style>\n",
       "<table border=\"1\" class=\"dataframe\">\n",
       "  <thead>\n",
       "    <tr style=\"text-align: right;\">\n",
       "      <th></th>\n",
       "      <th>x</th>\n",
       "      <th>y</th>\n",
       "    </tr>\n",
       "  </thead>\n",
       "  <tbody>\n",
       "    <tr>\n",
       "      <th>2</th>\n",
       "      <td>c</td>\n",
       "      <td>0.7</td>\n",
       "    </tr>\n",
       "    <tr>\n",
       "      <th>1</th>\n",
       "      <td>b</td>\n",
       "      <td>1.6</td>\n",
       "    </tr>\n",
       "    <tr>\n",
       "      <th>0</th>\n",
       "      <td>a</td>\n",
       "      <td>3.1</td>\n",
       "    </tr>\n",
       "  </tbody>\n",
       "</table>\n",
       "</div>"
      ],
      "text/plain": [
       "   x    y\n",
       "2  c  0.7\n",
       "1  b  1.6\n",
       "0  a  3.1"
      ]
     },
     "execution_count": 2,
     "metadata": {},
     "output_type": "execute_result"
    }
   ],
   "source": [
    "# GET MEAN VALUES OF Y : Run this cell as is\n",
    "df[\"y\"] = pd.to_numeric(df[\"y\"])\n",
    "mean_y = df.groupby('x').mean().reset_index().sort_values(by=['y'])\n",
    "mean_y"
   ]
  },
  {
   "cell_type": "markdown",
   "metadata": {},
   "source": [
    "__DISCUSSION__\n",
    "* How many possible split points are there to start with?\n",
    "* How many possible split points are there using Brieman's method? List the splits.\n",
    "* How large should we grow the tree? What are the tradeoffs?\n"
   ]
  },
  {
   "cell_type": "markdown",
   "metadata": {},
   "source": [
    "### <--- SOLUTION --->\n",
    "__INSTRUCTOR TALKING POINTS__  \n",
    "* How many possible split points are there to start with?\n",
    "> There are ${p \\choose 2}$ possible split points. In the case of 3 categories we have ${3 \\choose 2} = 3$ possible split points.    \n",
    "> They are: {ab, c}, {ac, b}, {bc, a}\n",
    "* How many possible split points are there using Brieman's method? List the splits.\n",
    "> The number of split points is now reduced to $p-1$, and in our case that's 2.   \n",
    "> They are: {c, ba}, {cb, a}\n",
    "* How large should we grow the tree? What are the tradeoffs?\n",
    "> One approach would be to split tree nodes only if the decrease in sum of squares due to the split exceeds sme threshold. However, a seemingly worthless split could lead to a very good split below it, so this method is short sighted. The preferred method is to grow a treee $T_0$ stopping the splitting process only wen some minimum node size is reached. Then the tree is pruned using *cost-complexity-pruning*. [ISL pg. 308]"
   ]
  },
  {
   "cell_type": "markdown",
   "metadata": {},
   "source": [
    "### Cost-Complexity Pruning \n",
    "ESL, pg. 308"
   ]
  },
  {
   "cell_type": "markdown",
   "metadata": {},
   "source": [
    "The preferred strategy is to grow a large tree $T_0$, stopping the splitting\n",
    "process only when some minimum node size (say 5) is reached. Then this\n",
    "large tree is pruned using cost-complexity pruning, which we now describe.\n",
    "We define a subtree $T ⊂ T_0$ to be any tree that can be obtained by\n",
    "pruning $T_0$, that is, collapsing any number of its internal (non-terminal)\n",
    "nodes. We index terminal nodes by $m$, with node $m$ representing region\n",
    "$R_m$. Let $|T|$ denote the number of terminal nodes in $T$. Letting"
   ]
  },
  {
   "cell_type": "markdown",
   "metadata": {},
   "source": [
    "$$\n",
    "N_m = \\#\\{x_i \\in R_m\\},\n",
    "$$\n",
    "\n"
   ]
  },
  {
   "cell_type": "markdown",
   "metadata": {},
   "source": [
    "$$\n",
    "\\hat c_m = \\frac{1}{N_m} \\sum_{x_i \\in R_m} y_i, \\tag{9.15}\n",
    "$$"
   ]
  },
  {
   "cell_type": "markdown",
   "metadata": {},
   "source": [
    "$$\n",
    "Q_m(T) = \\frac{1}{N_m}\\sum_{x_i \\in R_m} (y_i - \\hat c_m)^2),\n",
    "$$"
   ]
  },
  {
   "cell_type": "markdown",
   "metadata": {},
   "source": [
    "we define the *cost complexity criterion*"
   ]
  },
  {
   "cell_type": "markdown",
   "metadata": {},
   "source": [
    "$$\n",
    "C_\\alpha (T) = \\sum_{m=1}^{|T|} N_mQ_m(T) + \\alpha|T|. \\tag{9.16}\n",
    "$$"
   ]
  },
  {
   "cell_type": "markdown",
   "metadata": {},
   "source": [
    "The idea is to find, for each $α$, the subtree $Tα ⊆ T_0$ to minimize $C_α(T)$.\n",
    "The tuning parameter $α ≥ 0$ governs the tradeoff between tree size and its\n",
    "goodness of fit to the data. Large values of $α$ result in smaller trees $T_α$, and\n",
    "conversely for smaller values of $α$. As the notation suggests, with $α = 0$ the\n",
    "solution is the full tree $T_0$."
   ]
  },
  {
   "cell_type": "markdown",
   "metadata": {},
   "source": [
    "For each α one can show that there is a unique smallest subtree $T_α$ that\n",
    "minimizes $C_α(T)$. To find $T_α$ we use *weakest link pruning*: we successively\n",
    "collapse the internal node that produces the smallest per-node increase in\n",
    "$m$ $N_mQ_m(T)$, and continue until we produce the single-node (root) tree.\n",
    "This gives a (finite) sequence of subtrees, and one can show this sequence\n",
    "must contain Tα. See Breiman et al. (1984) or Ripley (1996) for details."
   ]
  },
  {
   "cell_type": "markdown",
   "metadata": {},
   "source": [
    "Estimation of α is achieved by five- or tenfold cross-validation: we choose\n",
    "the value $\\hat α$ to minimize the cross-validated sum of squares. Our final tree\n",
    "is $T \\hat α$. See Breiman et al. (1984) or Ripley (1996) for details."
   ]
  },
  {
   "cell_type": "markdown",
   "metadata": {},
   "source": [
    "## EXERCISE 2:\n",
    "Implement cost complexity pruning using a simple regression tree example. You may need to increase the size of this example to see meaningful results.\n",
    "\n"
   ]
  },
  {
   "cell_type": "code",
   "execution_count": 3,
   "metadata": {},
   "outputs": [],
   "source": [
    "# 2a. Generate some random data for regression (RUN THIS CELL AS IS)\n",
    "# You may need to increase the n_samples and n_features to see meaningful results\n",
    "\n",
    "from sklearn.datasets import make_regression\n",
    "from matplotlib import pyplot\n",
    "# generate regression dataset\n",
    "X, y = make_regression(n_samples=18, n_features=4 , noise=0.1)"
   ]
  },
  {
   "cell_type": "code",
   "execution_count": 4,
   "metadata": {},
   "outputs": [],
   "source": [
    "# 2b. Fit an \"example\" tree using sklearn (RUN THIS CELL AS IS)\n",
    "from sklearn import tree\n",
    "clf = tree.DecisionTreeRegressor(max_leaf_nodes=5)\n",
    "clf = clf.fit(X, y)"
   ]
  },
  {
   "cell_type": "code",
   "execution_count": 5,
   "metadata": {
    "collapsed": true,
    "jupyter": {
     "outputs_hidden": true
    }
   },
   "outputs": [
    {
     "name": "stdout",
     "output_type": "stream",
     "text": [
      "Collecting package metadata (current_repodata.json): done\n",
      "Solving environment: done\n",
      "\n",
      "## Package Plan ##\n",
      "\n",
      "  environment location: /opt/anaconda\n",
      "\n",
      "  added / updated specs:\n",
      "    - python-graphviz\n",
      "\n",
      "\n",
      "The following packages will be downloaded:\n",
      "\n",
      "    package                    |            build\n",
      "    ---------------------------|-----------------\n",
      "    ca-certificates-2019.10.16 |                0         131 KB\n",
      "    certifi-2019.9.11          |           py37_0         154 KB\n",
      "    conda-4.7.12               |           py37_0         3.0 MB\n",
      "    graphviz-2.40.1            |       h21bd128_2         6.5 MB\n",
      "    python-graphviz-0.13.2     |             py_0          24 KB\n",
      "    ------------------------------------------------------------\n",
      "                                           Total:         9.8 MB\n",
      "\n",
      "The following NEW packages will be INSTALLED:\n",
      "\n",
      "  graphviz           pkgs/main/linux-64::graphviz-2.40.1-h21bd128_2\n",
      "  python-graphviz    pkgs/main/noarch::python-graphviz-0.13.2-py_0\n",
      "\n",
      "The following packages will be UPDATED:\n",
      "\n",
      "  ca-certificates    conda-forge::ca-certificates-2019.9.1~ --> pkgs/main::ca-certificates-2019.10.16-0\n",
      "\n",
      "The following packages will be SUPERSEDED by a higher-priority channel:\n",
      "\n",
      "  certifi                                       conda-forge --> pkgs/main\n",
      "  conda                                         conda-forge --> pkgs/main\n",
      "\n",
      "\n",
      "\n",
      "Downloading and Extracting Packages\n",
      "conda-4.7.12         | 3.0 MB    | ##################################### | 100% \n",
      "certifi-2019.9.11    | 154 KB    | ##################################### | 100% \n",
      "python-graphviz-0.13 | 24 KB     | ##################################### | 100% \n",
      "graphviz-2.40.1      | 6.5 MB    | ##################################### | 100% \n",
      "ca-certificates-2019 | 131 KB    | ##################################### | 100% \n",
      "Preparing transaction: done\n",
      "Verifying transaction: done\n",
      "Executing transaction: done\n"
     ]
    }
   ],
   "source": [
    "# You will need this if you are running this notebook in the w261 docker environment. \n",
    "# It takes a while to load everything - could be up to an hour depending on your network, etc..\n",
    "\n",
    "!conda install -y python-graphviz\n"
   ]
  },
  {
   "cell_type": "code",
   "execution_count": 6,
   "metadata": {},
   "outputs": [],
   "source": [
    "# NOT THIS\n",
    "#!conda install -y pydot"
   ]
  },
  {
   "cell_type": "code",
   "execution_count": 22,
   "metadata": {},
   "outputs": [],
   "source": [
    "# NOT THIS\n",
    "#!conda install -y graphviz"
   ]
  },
  {
   "cell_type": "code",
   "execution_count": 6,
   "metadata": {},
   "outputs": [
    {
     "data": {
      "image/svg+xml": [
       "<?xml version=\"1.0\" encoding=\"UTF-8\" standalone=\"no\"?>\n",
       "<!DOCTYPE svg PUBLIC \"-//W3C//DTD SVG 1.1//EN\"\n",
       " \"http://www.w3.org/Graphics/SVG/1.1/DTD/svg11.dtd\">\n",
       "<!-- Generated by graphviz version 2.40.1 (20161225.0304)\n",
       " -->\n",
       "<!-- Title: Tree Pages: 1 -->\n",
       "<svg width=\"658pt\" height=\"433pt\"\n",
       " viewBox=\"0.00 0.00 658.00 433.00\" xmlns=\"http://www.w3.org/2000/svg\" xmlns:xlink=\"http://www.w3.org/1999/xlink\">\n",
       "<g id=\"graph0\" class=\"graph\" transform=\"scale(1 1) rotate(0) translate(4 429)\">\n",
       "<title>Tree</title>\n",
       "<polygon fill=\"#ffffff\" stroke=\"transparent\" points=\"-4,4 -4,-429 654,-429 654,4 -4,4\"/>\n",
       "<!-- 0 -->\n",
       "<g id=\"node1\" class=\"node\">\n",
       "<title>0</title>\n",
       "<polygon fill=\"none\" stroke=\"#000000\" points=\"433,-425 304,-425 304,-342 433,-342 433,-425\"/>\n",
       "<text text-anchor=\"middle\" x=\"368.5\" y=\"-409.8\" font-family=\"Times,serif\" font-size=\"14.00\" fill=\"#000000\">node #0</text>\n",
       "<text text-anchor=\"middle\" x=\"368.5\" y=\"-394.8\" font-family=\"Times,serif\" font-size=\"14.00\" fill=\"#000000\">X[2] &lt;= 0.311</text>\n",
       "<text text-anchor=\"middle\" x=\"368.5\" y=\"-379.8\" font-family=\"Times,serif\" font-size=\"14.00\" fill=\"#000000\">mse = 24504.947</text>\n",
       "<text text-anchor=\"middle\" x=\"368.5\" y=\"-364.8\" font-family=\"Times,serif\" font-size=\"14.00\" fill=\"#000000\">samples = 18</text>\n",
       "<text text-anchor=\"middle\" x=\"368.5\" y=\"-349.8\" font-family=\"Times,serif\" font-size=\"14.00\" fill=\"#000000\">value = 14.679</text>\n",
       "</g>\n",
       "<!-- 1 -->\n",
       "<g id=\"node2\" class=\"node\">\n",
       "<title>1</title>\n",
       "<polygon fill=\"none\" stroke=\"#000000\" points=\"360,-306 231,-306 231,-223 360,-223 360,-306\"/>\n",
       "<text text-anchor=\"middle\" x=\"295.5\" y=\"-290.8\" font-family=\"Times,serif\" font-size=\"14.00\" fill=\"#000000\">node #1</text>\n",
       "<text text-anchor=\"middle\" x=\"295.5\" y=\"-275.8\" font-family=\"Times,serif\" font-size=\"14.00\" fill=\"#000000\">X[1] &lt;= &#45;0.879</text>\n",
       "<text text-anchor=\"middle\" x=\"295.5\" y=\"-260.8\" font-family=\"Times,serif\" font-size=\"14.00\" fill=\"#000000\">mse = 9594.303</text>\n",
       "<text text-anchor=\"middle\" x=\"295.5\" y=\"-245.8\" font-family=\"Times,serif\" font-size=\"14.00\" fill=\"#000000\">samples = 11</text>\n",
       "<text text-anchor=\"middle\" x=\"295.5\" y=\"-230.8\" font-family=\"Times,serif\" font-size=\"14.00\" fill=\"#000000\">value = &#45;85.492</text>\n",
       "</g>\n",
       "<!-- 0&#45;&gt;1 -->\n",
       "<g id=\"edge1\" class=\"edge\">\n",
       "<title>0&#45;&gt;1</title>\n",
       "<path fill=\"none\" stroke=\"#000000\" d=\"M342.9681,-341.8796C337.609,-333.1434 331.9021,-323.8404 326.3718,-314.8253\"/>\n",
       "<polygon fill=\"#000000\" stroke=\"#000000\" points=\"329.3533,-312.9919 321.1408,-306.2981 323.3865,-316.6522 329.3533,-312.9919\"/>\n",
       "<text text-anchor=\"middle\" x=\"315.3161\" y=\"-326.9101\" font-family=\"Times,serif\" font-size=\"14.00\" fill=\"#000000\">True</text>\n",
       "</g>\n",
       "<!-- 2 -->\n",
       "<g id=\"node7\" class=\"node\">\n",
       "<title>2</title>\n",
       "<polygon fill=\"none\" stroke=\"#000000\" points=\"507,-306 378,-306 378,-223 507,-223 507,-306\"/>\n",
       "<text text-anchor=\"middle\" x=\"442.5\" y=\"-290.8\" font-family=\"Times,serif\" font-size=\"14.00\" fill=\"#000000\">node #2</text>\n",
       "<text text-anchor=\"middle\" x=\"442.5\" y=\"-275.8\" font-family=\"Times,serif\" font-size=\"14.00\" fill=\"#000000\">X[2] &lt;= 1.037</text>\n",
       "<text text-anchor=\"middle\" x=\"442.5\" y=\"-260.8\" font-family=\"Times,serif\" font-size=\"14.00\" fill=\"#000000\">mse = 7389.461</text>\n",
       "<text text-anchor=\"middle\" x=\"442.5\" y=\"-245.8\" font-family=\"Times,serif\" font-size=\"14.00\" fill=\"#000000\">samples = 7</text>\n",
       "<text text-anchor=\"middle\" x=\"442.5\" y=\"-230.8\" font-family=\"Times,serif\" font-size=\"14.00\" fill=\"#000000\">value = 172.091</text>\n",
       "</g>\n",
       "<!-- 0&#45;&gt;2 -->\n",
       "<g id=\"edge6\" class=\"edge\">\n",
       "<title>0&#45;&gt;2</title>\n",
       "<path fill=\"none\" stroke=\"#000000\" d=\"M394.3816,-341.8796C399.8142,-333.1434 405.5992,-323.8404 411.2053,-314.8253\"/>\n",
       "<polygon fill=\"#000000\" stroke=\"#000000\" points=\"414.1993,-316.6383 416.5079,-306.2981 408.2549,-312.9418 414.1993,-316.6383\"/>\n",
       "<text text-anchor=\"middle\" x=\"422.1847\" y=\"-326.945\" font-family=\"Times,serif\" font-size=\"14.00\" fill=\"#000000\">False</text>\n",
       "</g>\n",
       "<!-- 3 -->\n",
       "<g id=\"node3\" class=\"node\">\n",
       "<title>3</title>\n",
       "<polygon fill=\"none\" stroke=\"#000000\" points=\"214,-187 77,-187 77,-104 214,-104 214,-187\"/>\n",
       "<text text-anchor=\"middle\" x=\"145.5\" y=\"-171.8\" font-family=\"Times,serif\" font-size=\"14.00\" fill=\"#000000\">node #3</text>\n",
       "<text text-anchor=\"middle\" x=\"145.5\" y=\"-156.8\" font-family=\"Times,serif\" font-size=\"14.00\" fill=\"#000000\">X[0] &lt;= &#45;1.476</text>\n",
       "<text text-anchor=\"middle\" x=\"145.5\" y=\"-141.8\" font-family=\"Times,serif\" font-size=\"14.00\" fill=\"#000000\">mse = 5300.462</text>\n",
       "<text text-anchor=\"middle\" x=\"145.5\" y=\"-126.8\" font-family=\"Times,serif\" font-size=\"14.00\" fill=\"#000000\">samples = 3</text>\n",
       "<text text-anchor=\"middle\" x=\"145.5\" y=\"-111.8\" font-family=\"Times,serif\" font-size=\"14.00\" fill=\"#000000\">value = &#45;217.067</text>\n",
       "</g>\n",
       "<!-- 1&#45;&gt;3 -->\n",
       "<g id=\"edge2\" class=\"edge\">\n",
       "<title>1&#45;&gt;3</title>\n",
       "<path fill=\"none\" stroke=\"#000000\" d=\"M243.0373,-222.8796C231.0479,-213.368 218.2113,-203.1843 205.9184,-193.432\"/>\n",
       "<polygon fill=\"#000000\" stroke=\"#000000\" points=\"207.9425,-190.5701 197.9331,-187.0969 203.5919,-196.054 207.9425,-190.5701\"/>\n",
       "</g>\n",
       "<!-- 4 -->\n",
       "<g id=\"node6\" class=\"node\">\n",
       "<title>4</title>\n",
       "<polygon fill=\"none\" stroke=\"#000000\" points=\"361,-179.5 232,-179.5 232,-111.5 361,-111.5 361,-179.5\"/>\n",
       "<text text-anchor=\"middle\" x=\"296.5\" y=\"-164.3\" font-family=\"Times,serif\" font-size=\"14.00\" fill=\"#000000\">node #4</text>\n",
       "<text text-anchor=\"middle\" x=\"296.5\" y=\"-149.3\" font-family=\"Times,serif\" font-size=\"14.00\" fill=\"#000000\">mse = 2277.992</text>\n",
       "<text text-anchor=\"middle\" x=\"296.5\" y=\"-134.3\" font-family=\"Times,serif\" font-size=\"14.00\" fill=\"#000000\">samples = 8</text>\n",
       "<text text-anchor=\"middle\" x=\"296.5\" y=\"-119.3\" font-family=\"Times,serif\" font-size=\"14.00\" fill=\"#000000\">value = &#45;36.151</text>\n",
       "</g>\n",
       "<!-- 1&#45;&gt;4 -->\n",
       "<g id=\"edge5\" class=\"edge\">\n",
       "<title>1&#45;&gt;4</title>\n",
       "<path fill=\"none\" stroke=\"#000000\" d=\"M295.8498,-222.8796C295.9394,-212.2134 296.0361,-200.7021 296.1269,-189.9015\"/>\n",
       "<polygon fill=\"#000000\" stroke=\"#000000\" points=\"299.6274,-189.844 296.2116,-179.8149 292.6276,-189.7851 299.6274,-189.844\"/>\n",
       "</g>\n",
       "<!-- 7 -->\n",
       "<g id=\"node4\" class=\"node\">\n",
       "<title>7</title>\n",
       "<polygon fill=\"none\" stroke=\"#000000\" points=\"137,-68 0,-68 0,0 137,0 137,-68\"/>\n",
       "<text text-anchor=\"middle\" x=\"68.5\" y=\"-52.8\" font-family=\"Times,serif\" font-size=\"14.00\" fill=\"#000000\">node #7</text>\n",
       "<text text-anchor=\"middle\" x=\"68.5\" y=\"-37.8\" font-family=\"Times,serif\" font-size=\"14.00\" fill=\"#000000\">mse = 2.238</text>\n",
       "<text text-anchor=\"middle\" x=\"68.5\" y=\"-22.8\" font-family=\"Times,serif\" font-size=\"14.00\" fill=\"#000000\">samples = 2</text>\n",
       "<text text-anchor=\"middle\" x=\"68.5\" y=\"-7.8\" font-family=\"Times,serif\" font-size=\"14.00\" fill=\"#000000\">value = &#45;165.594</text>\n",
       "</g>\n",
       "<!-- 3&#45;&gt;7 -->\n",
       "<g id=\"edge3\" class=\"edge\">\n",
       "<title>3&#45;&gt;7</title>\n",
       "<path fill=\"none\" stroke=\"#000000\" d=\"M116.828,-103.9815C110.6715,-95.0666 104.1557,-85.6313 97.9695,-76.6734\"/>\n",
       "<polygon fill=\"#000000\" stroke=\"#000000\" points=\"100.7245,-74.5034 92.1619,-68.2637 94.9645,-78.4811 100.7245,-74.5034\"/>\n",
       "</g>\n",
       "<!-- 8 -->\n",
       "<g id=\"node5\" class=\"node\">\n",
       "<title>8</title>\n",
       "<polygon fill=\"none\" stroke=\"#000000\" points=\"292,-68 155,-68 155,0 292,0 292,-68\"/>\n",
       "<text text-anchor=\"middle\" x=\"223.5\" y=\"-52.8\" font-family=\"Times,serif\" font-size=\"14.00\" fill=\"#000000\">node #8</text>\n",
       "<text text-anchor=\"middle\" x=\"223.5\" y=\"-37.8\" font-family=\"Times,serif\" font-size=\"14.00\" fill=\"#000000\">mse = &#45;0.0</text>\n",
       "<text text-anchor=\"middle\" x=\"223.5\" y=\"-22.8\" font-family=\"Times,serif\" font-size=\"14.00\" fill=\"#000000\">samples = 1</text>\n",
       "<text text-anchor=\"middle\" x=\"223.5\" y=\"-7.8\" font-family=\"Times,serif\" font-size=\"14.00\" fill=\"#000000\">value = &#45;320.013</text>\n",
       "</g>\n",
       "<!-- 3&#45;&gt;8 -->\n",
       "<g id=\"edge4\" class=\"edge\">\n",
       "<title>3&#45;&gt;8</title>\n",
       "<path fill=\"none\" stroke=\"#000000\" d=\"M174.5443,-103.9815C180.7808,-95.0666 187.3813,-85.6313 193.6478,-76.6734\"/>\n",
       "<polygon fill=\"#000000\" stroke=\"#000000\" points=\"196.6665,-78.464 199.5308,-68.2637 190.9307,-74.4515 196.6665,-78.464\"/>\n",
       "</g>\n",
       "<!-- 5 -->\n",
       "<g id=\"node8\" class=\"node\">\n",
       "<title>5</title>\n",
       "<polygon fill=\"none\" stroke=\"#000000\" points=\"502.5,-179.5 380.5,-179.5 380.5,-111.5 502.5,-111.5 502.5,-179.5\"/>\n",
       "<text text-anchor=\"middle\" x=\"441.5\" y=\"-164.3\" font-family=\"Times,serif\" font-size=\"14.00\" fill=\"#000000\">node #5</text>\n",
       "<text text-anchor=\"middle\" x=\"441.5\" y=\"-149.3\" font-family=\"Times,serif\" font-size=\"14.00\" fill=\"#000000\">mse = 2371.66</text>\n",
       "<text text-anchor=\"middle\" x=\"441.5\" y=\"-134.3\" font-family=\"Times,serif\" font-size=\"14.00\" fill=\"#000000\">samples = 3</text>\n",
       "<text text-anchor=\"middle\" x=\"441.5\" y=\"-119.3\" font-family=\"Times,serif\" font-size=\"14.00\" fill=\"#000000\">value = 83.484</text>\n",
       "</g>\n",
       "<!-- 2&#45;&gt;5 -->\n",
       "<g id=\"edge7\" class=\"edge\">\n",
       "<title>2&#45;&gt;5</title>\n",
       "<path fill=\"none\" stroke=\"#000000\" d=\"M442.1502,-222.8796C442.0606,-212.2134 441.9639,-200.7021 441.8731,-189.9015\"/>\n",
       "<polygon fill=\"#000000\" stroke=\"#000000\" points=\"445.3724,-189.7851 441.7884,-179.8149 438.3726,-189.844 445.3724,-189.7851\"/>\n",
       "</g>\n",
       "<!-- 6 -->\n",
       "<g id=\"node9\" class=\"node\">\n",
       "<title>6</title>\n",
       "<polygon fill=\"none\" stroke=\"#000000\" points=\"650,-179.5 521,-179.5 521,-111.5 650,-111.5 650,-179.5\"/>\n",
       "<text text-anchor=\"middle\" x=\"585.5\" y=\"-164.3\" font-family=\"Times,serif\" font-size=\"14.00\" fill=\"#000000\">node #6</text>\n",
       "<text text-anchor=\"middle\" x=\"585.5\" y=\"-149.3\" font-family=\"Times,serif\" font-size=\"14.00\" fill=\"#000000\">mse = 848.13</text>\n",
       "<text text-anchor=\"middle\" x=\"585.5\" y=\"-134.3\" font-family=\"Times,serif\" font-size=\"14.00\" fill=\"#000000\">samples = 4</text>\n",
       "<text text-anchor=\"middle\" x=\"585.5\" y=\"-119.3\" font-family=\"Times,serif\" font-size=\"14.00\" fill=\"#000000\">value = 238.546</text>\n",
       "</g>\n",
       "<!-- 2&#45;&gt;6 -->\n",
       "<g id=\"edge8\" class=\"edge\">\n",
       "<title>2&#45;&gt;6</title>\n",
       "<path fill=\"none\" stroke=\"#000000\" d=\"M492.5145,-222.8796C506.7853,-211.0038 522.3151,-198.0804 536.5233,-186.2568\"/>\n",
       "<polygon fill=\"#000000\" stroke=\"#000000\" points=\"538.8166,-188.9019 544.2644,-179.8149 534.339,-183.5212 538.8166,-188.9019\"/>\n",
       "</g>\n",
       "</g>\n",
       "</svg>\n"
      ],
      "text/plain": [
       "<graphviz.files.Source at 0x7f3c3f0fa210>"
      ]
     },
     "execution_count": 6,
     "metadata": {},
     "output_type": "execute_result"
    }
   ],
   "source": [
    "# 2c. Visualize the tree (RUN THIS CELL AS IS)\n",
    "import graphviz \n",
    "dot_data = tree.export_graphviz(clf, out_file=None, node_ids=True) \n",
    "graph = graphviz.Source(dot_data) \n",
    "graph"
   ]
  },
  {
   "cell_type": "code",
   "execution_count": 7,
   "metadata": {},
   "outputs": [
    {
     "name": "stdout",
     "output_type": "stream",
     "text": [
      "(4, -96.62360714492814)\n",
      "(4, -95.02220290029929)\n",
      "(4, -50.84685934444499)\n",
      "(4, -49.372431035998964)\n",
      "(4, -47.25371831988233)\n",
      "(4, -10.420274211819452)\n",
      "(4, 6.403530805956158)\n",
      "(4, 53.92771387018423)\n",
      "(5, 14.653890020058919)\n",
      "(5, 115.82710564724378)\n",
      "(5, 119.97125613908175)\n",
      "(6, 191.70382043918747)\n",
      "(6, 236.52048595316919)\n",
      "(6, 262.6925569330102)\n",
      "(6, 263.2678891770892)\n",
      "(7, -167.08959727558747)\n",
      "(7, -164.09755859598152)\n",
      "(8, -320.0130257733468)\n"
     ]
    }
   ],
   "source": [
    "# tuples of node ids and the values assinged to each.\n",
    "for i in sorted(zip(clf.apply(X),y)):\n",
    "    print (i)"
   ]
  },
  {
   "cell_type": "markdown",
   "metadata": {},
   "source": [
    "*For this small example, you may want to do one iteration in pencil and paper before implementing in code.*"
   ]
  },
  {
   "cell_type": "markdown",
   "metadata": {},
   "source": [
    "INSERT IMAGE OF HAND CALCULATIONS HERE"
   ]
  },
  {
   "cell_type": "code",
   "execution_count": 29,
   "metadata": {},
   "outputs": [],
   "source": [
    "############### YOUR CODE HERE ##################\n",
    "\n",
    "############### (END) YOUR CODE #################"
   ]
  },
  {
   "cell_type": "markdown",
   "metadata": {},
   "source": [
    "BONUS: Visualize the trees at each iteration of the CCP algorithm."
   ]
  },
  {
   "cell_type": "markdown",
   "metadata": {},
   "source": []
  },
  {
   "cell_type": "markdown",
   "metadata": {},
   "source": []
  },
  {
   "cell_type": "markdown",
   "metadata": {},
   "source": [
    "## Classification Trees\n",
    "\n",
    "__DISCUSSION__\n",
    "* What modifications do we need to make for classification trees?"
   ]
  },
  {
   "cell_type": "markdown",
   "metadata": {},
   "source": [
    "### <--- SOLUTION --->\n",
    "__INSTRUCTOR TALKING POINTS__  \n",
    "* What modifications do we need to make for classification trees?\n",
    "\n",
    "> If the target is a classification outcome taking values $1, 2, . . .,K$, the only\n",
    "changes needed in the tree algorithm pertain to the criteria for splitting\n",
    "nodes and pruning the tree."
   ]
  },
  {
   "cell_type": "markdown",
   "metadata": {},
   "source": [
    "<img src=\"purity-functions.png\" width=500>"
   ]
  },
  {
   "cell_type": "markdown",
   "metadata": {},
   "source": [
    "__FIGURE 9.3.__ *Node impurity measures for two-class classification, as a function\n",
    "of the proportion p in class 2. Cross-entropy has been scaled to pass through\n",
    "(0.5, 0.5).*"
   ]
  },
  {
   "cell_type": "markdown",
   "metadata": {},
   "source": [
    "In a node $m$, representing a region $R_m$ with $N_m$ observations, let"
   ]
  },
  {
   "cell_type": "markdown",
   "metadata": {},
   "source": [
    "<img src=\"class-proportion.png\">"
   ]
  },
  {
   "cell_type": "markdown",
   "metadata": {},
   "source": [
    "the proportion of class $k$ observations in node $m$. We classify the observations\n",
    "in node $m$ to class $k(m) = arg max_k \\hat p_{mk}$, the majority class in\n",
    "node $m$. Different measures $Q_m(T)$ of node impurity include the following:"
   ]
  },
  {
   "cell_type": "markdown",
   "metadata": {},
   "source": [
    "<img src=\"purity-equations.png\">"
   ]
  },
  {
   "cell_type": "markdown",
   "metadata": {},
   "source": [
    "All three are similar, but crossentropy and the Gini index are differentiable, and hence more amenable to numerical optimization. \n",
    "\n",
    "In addition, cross-entropy and the Gini index are more sensitive to changes\n",
    "in the node probabilities than the misclassification rate. For example, in\n",
    "a two-class problem with 400 observations in each class (denote this by\n",
    "(400, 400)), suppose one split created nodes (300, 100) and (100, 300), while\n",
    "the other created nodes (200, 400) and (200, 0). Both splits produce a misclassification\n",
    "rate of 0.25, but the second split produces a pure node and is\n",
    "probably preferable. Both the Gini index and cross-entropy are lower for the\n",
    "second split. For this reason, either the Gini index or cross-entropy should\n",
    "be used when growing the tree. \n",
    "\n",
    "To guide cost-complexity pruning, any of the three measures can be used, but typically it is the misclassification rate."
   ]
  },
  {
   "cell_type": "markdown",
   "metadata": {},
   "source": [
    "## Other Issues\n"
   ]
  },
  {
   "cell_type": "markdown",
   "metadata": {},
   "source": [
    "* __Why binary splits?__\n",
    "Rather than splitting each node into just two groups at each stage (as\n",
    "above), we might consider multiway splits into more than two groups. While\n",
    "this can sometimes be useful, it is not a good general strategy. The problem\n",
    "is that multiway splits fragment the data too quickly, leaving insufficient\n",
    "data at the next level down. Hence we would want to use such splits only\n",
    "when needed. Since multiway splits can be achieved by a series of binary\n",
    "splits, the latter are preferred.\n",
    "\n",
    "* __Missing Predictor Values__\n",
    "See ESL p.311 - Surrogate predictors and split points."
   ]
  },
  {
   "cell_type": "markdown",
   "metadata": {},
   "source": [
    "# II. Distributed Tree Algorithms"
   ]
  },
  {
   "cell_type": "markdown",
   "metadata": {},
   "source": [
    "## PLANET: Massively Parallel Learning of Tree Ensembles with MapReduce\n",
    "https://static.googleusercontent.com/media/research.google.com/en//pubs/archive/36296.pdf   \n",
    "\n",
    "\n",
    "The greedy tree induction algorithm we have described\n",
    "is simple and works well in practice. However, it does not\n",
    "scale well to large training datasets. FindBestSplit requires\n",
    "a full scan of the node’s input data, which can be large at\n",
    "higher levels of the tree. Large inputs that do not fit in main\n",
    "memory become a bottleneck because of the cost of scanning\n",
    "data from secondary storage. Even at lower levels of the tree\n",
    "where a node’s input dataset D is typically much smaller\n",
    "than D, loading D into memory still requires reading and\n",
    "writing partitions of D to secondary storage multiple times.\n",
    "\n",
    "PLANET uses MapReduce to distribute and scale tree induction to very large datasets. \n"
   ]
  },
  {
   "cell_type": "markdown",
   "metadata": {},
   "source": [
    "__TODO__: Step by Step PLANET \n",
    "[See slides for now](https://docs.google.com/presentation/d/1Womuq5YmCNfvRZceguNjettzK0_hh3XojIanrqZ_auQ/edit#slide=id.g2b2b939f7f_1_244)"
   ]
  },
  {
   "cell_type": "markdown",
   "metadata": {},
   "source": [
    "# III. Ensembles and gradient boosting\n",
    "\n",
    "The basic idea with ensembles is that several independent models can be combined to make a better model.  One example of this comes from the Netflix prize where several of the top competitors for the million dollar prize joined forced and averaged their models to produce a superior model.  There were a handful of competitors and that was enough improvement to put them into a tie for the best results.  \n",
    "\n",
    "Generally, ensembles include many more than a handful of fully trained models.  The package guidance for the R package gbm (gradient boosting machine) suggests using 3000 models, for example.  How can that many different models be generated?  All of the models need to be solving more or less the same problem.  You can't do them by hand.  You need a systematic method for generating these models.  We'll look quickly at two different methods.  \n",
    "\n",
    "## Independent methods\n",
    "Build individual trees independently\n",
    "\n",
    "### Bagging & Random Forests\n",
    "First we'll look at Bootstrap Aggregation (called bagging).  That was invented by late Professor Leo Breiman, the famous Berkeley statistician.  Professor Breiman invented bagging to deal with the well known high-variance of binary decision trees.  Here's how it works.  \n",
    "\n",
    "Generate a multitude of different training sets for the same problem.  Train a binary decision tree for each training set and average the results.  To generate multiple training sets take a random sample of the data.  The nominal formula for generating random training sets is to take a sample whose size is 50% of the original data set and extract the data from the original by sample with replacement.  Here's are some simple example to illustrate.  "
   ]
  },
  {
   "cell_type": "code",
   "execution_count": 24,
   "metadata": {},
   "outputs": [
    {
     "data": {
      "image/png": "[encoded data removed]",
      "text/plain": [
       "<Figure size 432x288 with 1 Axes>"
      ]
     },
     "metadata": {},
     "output_type": "display_data"
    }
   ],
   "source": [
    "## Data generator.  \n",
    "import numpy as np \n",
    "from sklearn import tree\n",
    "import matplotlib.pyplot as plt\n",
    "\n",
    "\n",
    "def EnsembleDataGen(npts, stdDev):\n",
    "    #Define data set:\n",
    "    #Starter is X sampled regularly in [-10, 10], Y = X + noise\n",
    "    #Try swapping Y = X + noise for Y = np.sin(X) + noise\n",
    "    X = np.linspace(-10.0, 10.0, npts)\n",
    "    Y = X + np.random.normal(0.0, stdDev, npts)\n",
    "    #Y = np.sin(X) + np.random.normal(0.0, stdDev, npts)\n",
    "    return X.reshape([-1,1]), Y.reshape([-1,1])\n",
    "\n",
    "X,Y = EnsembleDataGen(100, 1.0)\n",
    "plt.scatter(X,Y)\n",
    "plt.show()"
   ]
  },
  {
   "cell_type": "markdown",
   "metadata": {},
   "source": [
    "### Building trees for bagging\n",
    "The core idea for bagging is to build high variance (complex) trees and then overcome the high-variance by average.  With binary decision trees the depth controls complexity (and variance).  So the trees for bagging are deeper than you might train if you were only building one tree and were trying to do the best trade off between bias and variance for a single tree.  One of the benefits of ensemble methods is that they don't require quite as much fussing with regularization parameters as single trees.  "
   ]
  },
  {
   "cell_type": "code",
   "execution_count": 25,
   "metadata": {
    "collapsed": true,
    "jupyter": {
     "outputs_hidden": true
    }
   },
   "outputs": [],
   "source": [
    "#Take random samples with replacement, build trees for each one and average.  \n",
    "from sklearn.tree import DecisionTreeRegressor\n",
    "\n",
    "#define weighted sum function to accumulate - (function currying)\n",
    "def wt_sum_fcn(f1, f2, wt):\n",
    "    def wsf(x):\n",
    "        return (f1(x) + wt * f2(x))\n",
    "    return wsf\n",
    "\n",
    "def Bagging(nTrees, nDepth, bagFrac, X, Y):\n",
    "    \"\"\"\n",
    "    nTrees - number of trees in ensemble\n",
    "    nDepts - max depth of trees\n",
    "    bagFrac - fractional size of bags relative to full data set\n",
    "    X, Y - features, labels\n",
    "    \n",
    "    Return: Prediction function that is average of prediction functions of trees in ensemble\n",
    "    \"\"\"\n",
    "    nDataPts = len(X)\n",
    "    wt = float(1.0 / nTrees)\n",
    "    nSamp = int(bagFrac * nDataPts)\n",
    "        \n",
    "    #Define function T to accumulate average prediction functions from trained trees.  \n",
    "    #initialize T to fcn mapping all x to zero to start \n",
    "    T = lambda x: 0.0\n",
    "    \n",
    "    #loop to generate individual trees in ensemble\n",
    "    for i in range(nTrees):\n",
    "        \n",
    "        #take a random sample from the data\n",
    "        sampIdx = np.random.choice(nDataPts, nSamp)\n",
    "        xTrain = X[sampIdx]\n",
    "        yTrain = Y[sampIdx]\n",
    "        \n",
    "        #build a tree on the sampled data\n",
    "        tree = DecisionTreeRegressor(max_depth=nDepth)\n",
    "        tree.fit(xTrain, yTrain)\n",
    "        \n",
    "        #Add the new tree with a weight\n",
    "        T = wt_sum_fcn(T, tree.predict, wt)\n",
    "    return T\n",
    "    "
   ]
  },
  {
   "cell_type": "code",
   "execution_count": 26,
   "metadata": {},
   "outputs": [
    {
     "data": {
      "image/png": "[encoded data removed]",
      "text/plain": [
       "<Figure size 432x288 with 1 Axes>"
      ]
     },
     "metadata": {},
     "output_type": "display_data"
    }
   ],
   "source": [
    "nTrees = 3  #try changing the number of trees being built\n",
    "nDepth = 6   #fairly deep for 100 data points\n",
    "bagFrac = 0.5   #Bag fraction - how many points in each of the random subsamples.  \n",
    "\n",
    "bag = Bagging(nTrees, nDepth, bagFrac, X, Y)\n",
    "\n",
    "result = bag(X)\n",
    "\n",
    "plt.plot(X, result, 'r')\n",
    "plt.scatter(X,Y)\n",
    "plt.show()"
   ]
  },
  {
   "cell_type": "markdown",
   "metadata": {},
   "source": [
    "#### Some things to try\n",
    "1.  Change the number of trees in the ensemble through a range of values 1, 3, 5, 10.  Notice how the prediction smooths out.  \n",
    "2.  Change the trees to depth 1 trees.  What happens as you put more and more trees into the ensemble?  This is a good example showing that no amount of averaging will overcome a bias error.  This is why it's important to grow deep trees for bagging.  \n",
    "2.  In the code generator there's a suggestion to change the dependence of Y on X into a sinusoid.  Make that change and try some values for tree depth, number of trees in the ensemble to see what effect it has.  Also change the number of points in the data set and see what's required to get a relatively smooth fit.  "
   ]
  },
  {
   "cell_type": "markdown",
   "metadata": {},
   "source": [
    "### Random Forest"
   ]
  },
  {
   "cell_type": "markdown",
   "metadata": {},
   "source": [
    "Random forest is similar to bagging in that we take sub-samples of the data to train individual trees and combine the results to form the final prediction. At a high level, the difference is the sampling method. RF builds trees on subsets of the features (columns), while bagging builds trees on subsets of the data (rows).    \n",
    "\n",
    "In reality we often implement a combination of bagging and RF where we take a sample of data and features.\n",
    "\n",
    "\n",
    "__Some considerations for building ensembles__:\n",
    "* __Tree diversity__ - Creating an ensemble in which each classifier is as different as possible\n",
    "while still being consistent with the training set is theoretically known to be\n",
    "an important feature for obtaining improved ensemble performance.\n",
    "\n",
    "* __Sub-sample distribution__ - Preprocess using K-means to insure that each tree contains some data points from each cluster, thus the individual trees distributions are similar to the original full dataset."
   ]
  },
  {
   "cell_type": "markdown",
   "metadata": {},
   "source": [
    "### Combination Methods for ensembles\n",
    "\n",
    "* Majority Voting\n",
    "* Performance Weighting\n",
    "* etc..\n",
    "\n",
    "See also *Data Mining with Decision Trees: Theory and Applications; Lior Rokach and Oded Maimon* Chapter 7.3\n",
    "\n"
   ]
  },
  {
   "cell_type": "markdown",
   "metadata": {},
   "source": [
    "## Dependent methods\n",
    "Build trees sequentially which optimize for the error in predictions from the previous iteration."
   ]
  },
  {
   "cell_type": "markdown",
   "metadata": {},
   "source": [
    "### Gradient Boosting\n",
    "Gradient boosting operates on a different principle from bagging.  The principle is easiest to explain for a regression problem like the one you just saw for bagging.  The idea with gradient boosting is that you fit a tree to the problem, then generate predicitons with that tree and subtract a small amount of the tree's prediction from the original regression labels.  Then the next tree gets trained on the leftovers.  \n",
    "\n",
    "See also: https://explained.ai/gradient-boosting/index.html"
   ]
  },
  {
   "cell_type": "code",
   "execution_count": 27,
   "metadata": {
    "collapsed": true,
    "jupyter": {
     "outputs_hidden": true
    }
   },
   "outputs": [],
   "source": [
    "def GradientBoosting(nTrees, nDepth, gamma, bagFrac, X, Y):\n",
    "    nDataPts = len(X)\n",
    "    nSamp = int(bagFrac * nDataPts)\n",
    "    \n",
    "    # Define function T to accumulate average prediction functions from trained trees.  \n",
    "    # initialize T to fcn mapping all x to zero to start \n",
    "    T = lambda x: 0.0\n",
    "    \n",
    "    # loop to generate individual trees in ensemble\n",
    "    for i in range(nTrees):\n",
    "        \n",
    "        # take a random sample from the data\n",
    "        sampIdx = np.random.choice(nDataPts, nSamp)\n",
    "        \n",
    "        xTrain = X[sampIdx]\n",
    "        \n",
    "        # estimate the regression values with the current trees.  \n",
    "        yEst = T(xTrain)\n",
    "        \n",
    "        # subtract the estimate based on current ensemble from the labels\n",
    "        yTrain = Y[sampIdx] - np.array(yEst).reshape([-1,1])\n",
    "        \n",
    "        # build a tree on the sampled data using residuals for labels\n",
    "        tree = DecisionTreeRegressor(max_depth=nDepth)\n",
    "        tree.fit(xTrain, yTrain)\n",
    "                \n",
    "        # add the new tree with a learning rate parameter (gamma)\n",
    "        T = wt_sum_fcn(T, tree.predict, gamma)\n",
    "    return T"
   ]
  },
  {
   "cell_type": "code",
   "execution_count": null,
   "metadata": {},
   "outputs": [],
   "source": []
  },
  {
   "cell_type": "code",
   "execution_count": 28,
   "metadata": {},
   "outputs": [
    {
     "data": {
      "image/png": "[encoded data removed]",
      "text/plain": [
       "<Figure size 432x288 with 1 Axes>"
      ]
     },
     "metadata": {},
     "output_type": "display_data"
    }
   ],
   "source": [
    "nTrees = 20  # try changing the number of trees being built\n",
    "nDepth = 1   # fairly deep for 100 data points\n",
    "gamma = 0.1\n",
    "bagFrac = 0.5   # Bag fraction - how many points in each of the random subsamples.  \n",
    "\n",
    "gbst = GradientBoosting(nTrees, nDepth, gamma, bagFrac, X, Y)\n",
    "\n",
    "result = gbst(X)\n",
    "\n",
    "plt.plot(X, result, 'r')\n",
    "plt.scatter(X,Y)\n",
    "plt.show()"
   ]
  },
  {
   "cell_type": "markdown",
   "metadata": {},
   "source": [
    "### Comments and some things to try\n",
    "You may have noticed that the sampling machinery from bagging was left in the code for gradient boosting.  Friedman's first paper \"Greedy Function Approximation\" did not include sampling the input data.  But sampling and the basic mechanics of functional gradient descent are separate matters and Friedman's second paper \"Stochastic Gradient Boosting\" added that element.  Links to both these papers can be found below.  \n",
    "\n",
    "#### Some things to try\n",
    "- Try running some of the same experiments as you did with bagging. Change the tree depth, number of trees etc.  Also try the sine function for Y(X) and see how gradient boosting does with it.  \n",
    "\n",
    "Here are some things that will highlight an important difference between gradient boosting and methods that are primarily variance reduction techniques.  \n",
    "\n",
    "- Experiment with different tree depths and see how it affects the accuracy of the final model.  With bagging, you saw that using depth 1 trees resulted in a bias error that could not be overcome by adding more trees.  Does that happen with gradient boosting?  \n",
    "\n",
    "Since gradient boosting is constantly changing the labels to emphasize the portions of the X-space where it's making the most mistakes, it will eventually pay so much attention to the edges of the data that it will start putting split points for depth 1 trees at the extreme edges of the data.  That raises the question: \"Why would you ever use trees deeper than 1 with gradient boosting?\"  \n",
    "\n",
    "The reason for adding tree depth with gradient boosting is to cover problems where there is joint dependence on two or more variables and that dependence plays an important role in predicting the labels.  Modeling two-way or dependence requires that pairs of variables both affect some of the splits in a single tree.  That requires more than a single split in the trees.  Start with relatively shallow trees for gradient boosting.  After you've got that dialed in, then try more depth to see if you get an improvement.  \n",
    "\n",
    "I hope you like gradient boosted trees.  It has won more Kaggle competitions than any other algo.  "
   ]
  },
  {
   "cell_type": "markdown",
   "metadata": {},
   "source": [
    "### References:\n",
    "https://explained.ai/gradient-boosting/index.html - GBM explained (__READ THIS FIRST__)    \n",
    "https://statweb.stanford.edu/~jhf/ftp/trebst.pdf - Greedy Function Approximation - a Gradient Boosting Machine  \n",
    "https://statweb.stanford.edu/~jhf/ftp/stobst.pdf - Stochastic Gradient Boosting  "
   ]
  },
  {
   "cell_type": "markdown",
   "metadata": {},
   "source": [
    "# Prediction"
   ]
  },
  {
   "cell_type": "markdown",
   "metadata": {},
   "source": [
    "For __regression__ problems, the predicted response for an observation is the weighted average of the predictions using selected trees only. That is,\n",
    "\n",
    "$$\n",
    "\\hat{y}_{bag} = \\frac{1}{\\sum^T_{t=1}\\alpha_tI(t \\in S)}\\sum^T_{t=1}\\alpha_t\\hat{y}_tI(t \\in S)\n",
    "$$ \n",
    "\n",
    "\n",
    "* $\\hat{y}_i$ is the prediction from tree t in the ensemble.\n",
    "\n",
    "* $S$ is the set of indices of selected trees that comprise the prediction. $I(t \\in S)$ is $1$ if $t$ is in the set $S$, and $0$ otherwise.\n",
    "\n",
    "* $\\alpha_t$ is the weight of tree $t$.\n",
    "\n",
    "For __classification__ problems, the predicted class for an observation is the class that yields the largest weighted average of the class posterior probabilities (i.e., classification scores) computed using selected trees only. That is,\n",
    "\n",
    "* For each class $c \\in C$ and each tree $t = 1,...,T$, predict computes $\\hat{P}_t(c|x)$ which is the estimated posterior probability of class $c$ given observation $x$ using tree $t$. $C$ is the set of all distinct classes in the training data. \n",
    "\n",
    "* To make a prediction, compute the weighted average of the class posterior probabilities over the selected trees.\n",
    "\n",
    "$$\n",
    "\\hat{P}_{bag}(c|x) = \\frac{1}{\\sum^T_{t=1}\\alpha_tI(t \\in S)}\\sum^T_{t=1}\\alpha_t\\hat{P}_t(c|x)I(t \\in S)\n",
    "$$\n",
    "\n",
    "* The predicted class is the class that yields the largest weighted average.\n",
    "\n",
    "$$\n",
    "\\hat{y}_{bag} = argmax_{c \\in C} \\big\\{\\hat{P}_{bag}(c|x)\\big\\}\n",
    "$$\n"
   ]
  },
  {
   "cell_type": "markdown",
   "metadata": {},
   "source": [
    "### Handling Missing Values when Applying Classification Models\n",
    "http://jmlr.csail.mit.edu/papers/volume8/saar-tsechansky07a/saar-tsechansky07a.pdf   \n",
    "It is important to distinguish two contexts: features may be missing at induction time, in the\n",
    "historical “training”data, or at prediction time, in to-be-predicted “test”cases. This paper compares\n",
    "techniques for handling missing values at prediction time.\n",
    "\n",
    "1. __Discard instances.__\n",
    "2. __Acquire missing values.__\n",
    "3. __Imputation.__\n",
    "4. __Reduced-feature Models:__ This can be accomplished by delaying\n",
    "model induction until a prediction is required, a strategy presented as “lazy” classificationtree induction by Friedman et al. (1996). Alternatively, for reduced-feature modeling one may\n",
    "store many models corresponding to various patterns of known and unknown test features."
   ]
  },
  {
   "cell_type": "markdown",
   "metadata": {
    "jupyter": {
     "outputs_hidden": true
    }
   },
   "source": [
    "## Feature Importances\n",
    "\n",
    "Explaining Feature Importance by example of a Random Forest\n",
    "- https://towardsdatascience.com/explaining-feature-importance-by-example-of-a-random-forest-d9166011959e\n",
    "\n",
    "References:\n",
    "- https://explained.ai/rf-importance/index.html    \n",
    "- https://bmcbioinformatics.biomedcentral.com/articles/10.1186/1471-2105-9-307    \n",
    "- http://blog.datadive.net/interpreting-random-forests/\n",
    "- http://blog.datadive.net/random-forest-interpretation-conditional-feature-contributions/"
   ]
  },
  {
   "cell_type": "code",
   "execution_count": null,
   "metadata": {},
   "outputs": [],
   "source": []
  }
 ],
 "metadata": {
  "kernelspec": {
   "display_name": "Python 3",
   "language": "python",
   "name": "python3"
  },
  "language_info": {
   "codemirror_mode": {
    "name": "ipython",
    "version": 3
   },
   "file_extension": ".py",
   "mimetype": "text/x-python",
   "name": "python",
   "nbconvert_exporter": "python",
   "pygments_lexer": "ipython3",
   "version": "3.7.5"
  }
 },
 "nbformat": 4,
 "nbformat_minor": 4
}
